{
 "cells": [
  {
   "cell_type": "code",
   "execution_count": 1,
   "metadata": {},
   "outputs": [
    {
     "name": "stderr",
     "output_type": "stream",
     "text": [
      "Loading required package: pacman\n",
      "\n",
      "Warning message in library(package, lib.loc = lib.loc, character.only = TRUE, logical.return = TRUE, :\n",
      "\"there is no package called 'pacman'\"\n"
     ]
    },
    {
     "name": "stdout",
     "output_type": "stream",
     "text": [
      "\n",
      "The downloaded binary packages are in\n",
      "\t/var/folders/h0/c9qylmn17q1g2jkn_w5pzpd40000gn/T//RtmprYxb01/downloaded_packages\n"
     ]
    }
   ],
   "source": [
    "if (!require(\"pacman\")) install.packages(\"pacman\")"
   ]
  },
  {
   "cell_type": "markdown",
   "metadata": {},
   "source": [
    "pacman: for loading/unloading packages \\\n",
    "magrittr: for pipes \\\n",
    "productplots: for sample dataset \"happy\" \\\n",
    "psych: for statistical procedures \\\n",
    "RColorBrewer: for color palettes \\\n",
    "tidyverse: for so many reasons \\"
   ]
  },
  {
   "cell_type": "code",
   "execution_count": 2,
   "metadata": {},
   "outputs": [
    {
     "name": "stderr",
     "output_type": "stream",
     "text": [
      "also installing the dependency 'plyr'\n",
      "\n",
      "\n"
     ]
    },
    {
     "name": "stdout",
     "output_type": "stream",
     "text": [
      "\n",
      "The downloaded binary packages are in\n",
      "\t/var/folders/h0/c9qylmn17q1g2jkn_w5pzpd40000gn/T//RtmprYxb01/downloaded_packages\n"
     ]
    },
    {
     "name": "stderr",
     "output_type": "stream",
     "text": [
      "\n",
      "productplots installed\n",
      "\n",
      "also installing the dependencies 'tmvnsim', 'mnormt'\n",
      "\n",
      "\n",
      "Warning message in download.file(url, destfile, method, mode = \"wb\", ...):\n",
      "\"downloaded length 3522560 != reported length 4246619\"\n",
      "Warning message in download.file(url, destfile, method, mode = \"wb\", ...):\n",
      "\"URL 'https://cran.r-project.org/bin/macosx/contrib/4.1/psych_2.1.9.tgz': Timeout of 60 seconds was reached\"\n"
     ]
    },
    {
     "name": "stdout",
     "output_type": "stream",
     "text": [
      "Error in download.file(url, destfile, method, mode = \"wb\", ...) : \n",
      "  download from 'https://cran.r-project.org/bin/macosx/contrib/4.1/psych_2.1.9.tgz' failed\n"
     ]
    },
    {
     "name": "stderr",
     "output_type": "stream",
     "text": [
      "Warning message in download.packages(pkgs, destdir = tmpd, available = available, :\n",
      "\"download of package 'psych' failed\"\n"
     ]
    },
    {
     "name": "stdout",
     "output_type": "stream",
     "text": [
      "\n",
      "The downloaded binary packages are in\n",
      "\t/var/folders/h0/c9qylmn17q1g2jkn_w5pzpd40000gn/T//RtmprYxb01/downloaded_packages\n"
     ]
    },
    {
     "name": "stderr",
     "output_type": "stream",
     "text": [
      "Warning message in p_install(package, character.only = TRUE, ...):\n",
      "\"\"\n",
      "Warning message in library(package, lib.loc = lib.loc, character.only = TRUE, logical.return = TRUE, :\n",
      "\"there is no package called 'psych'\"\n",
      "also installing the dependencies 'cellranger', 'ids', 'vroom', 'tzdb', 'progress', 'dbplyr', 'dtplyr', 'googledrive', 'googlesheets4', 'haven', 'modelr', 'readr', 'readxl', 'reprex'\n",
      "\n",
      "\n"
     ]
    },
    {
     "name": "stdout",
     "output_type": "stream",
     "text": [
      "\n",
      "The downloaded binary packages are in\n",
      "\t/var/folders/h0/c9qylmn17q1g2jkn_w5pzpd40000gn/T//RtmprYxb01/downloaded_packages\n"
     ]
    },
    {
     "name": "stderr",
     "output_type": "stream",
     "text": [
      "\n",
      "tidyverse installed\n",
      "\n",
      "Warning message in pacman::p_load(pacman, magrittr, productplots, psych, RColorBrewer, :\n",
      "\"Failed to install/load:\n",
      "psych, tidyverse\"\n"
     ]
    }
   ],
   "source": [
    "pacman::p_load(pacman, magrittr, productplots, psych, RColorBrewer, tidyverse)"
   ]
  },
  {
   "cell_type": "code",
   "execution_count": 4,
   "metadata": {},
   "outputs": [
    {
     "name": "stdout",
     "output_type": "stream",
     "text": [
      "R Help on 'happy'\n",
      "\n",
      "happy               package:productplots               R Documentation\n",
      "\n",
      "_\bD_\ba_\bt_\ba _\br_\be_\bl_\ba_\bt_\be_\bd _\bt_\bo _\bh_\ba_\bp_\bp_\bi_\bn_\be_\bs_\bs _\bf_\br_\bo_\bm _\bt_\bh_\be _\bg_\be_\bn_\be_\br_\ba_\bl _\bs_\bo_\bc_\bi_\ba_\bl _\bs_\bu_\br_\bv_\be_\by.\n",
      "\n",
      "_\bD_\be_\bs_\bc_\br_\bi_\bp_\bt_\bi_\bo_\bn:\n",
      "\n",
      "     The data is a small sample of variables related to happiness from\n",
      "     the general social survey (GSS). The GSS is a yearly\n",
      "     cross-sectional survey of Americans, run from 1976. We combine\n",
      "     data for 25 years to yield 51,020 observations, and of the over\n",
      "     5,000 variables, we select nine related to happiness:\n",
      "\n",
      "_\bU_\bs_\ba_\bg_\be:\n",
      "\n",
      "     data(happy)\n",
      "     \n",
      "_\bF_\bo_\br_\bm_\ba_\bt:\n",
      "\n",
      "     A data frame with 51020 rows and 10 variables\n",
      "\n",
      "_\bD_\be_\bt_\ba_\bi_\bl_\bs:\n",
      "\n",
      "        * age. age in years: 18--89.\n",
      "\n",
      "        * degree. highest education: lt high school, high school,\n",
      "          junior college, bachelor, graduate.\n",
      "\n",
      "        * finrela. relative financial status: far above, above average,\n",
      "          average, below average, far below.\n",
      "\n",
      "        * happy. happiness: very happy, pretty happy, not too happy.\n",
      "\n",
      "        * health. health: excellent, good, fair, poor.\n",
      "\n",
      "        * marital. marital status: married, never married, divorced,\n",
      "          widowed, separated.\n",
      "\n",
      "        * sex. sex: female, male.\n",
      "\n",
      "        * wtsall. probability weight. 0.43--6\n"
     ]
    }
   ],
   "source": [
    "print(?happy)"
   ]
  },
  {
   "cell_type": "code",
   "execution_count": 5,
   "metadata": {},
   "outputs": [
    {
     "name": "stdout",
     "output_type": "stream",
     "text": [
      " [1] \"id\"      \"happy\"   \"year\"    \"age\"     \"sex\"     \"marital\" \"degree\" \n",
      " [8] \"finrela\" \"health\"  \"wtssall\"\n"
     ]
    }
   ],
   "source": [
    "print(names(happy))"
   ]
  },
  {
   "cell_type": "code",
   "execution_count": 10,
   "metadata": {},
   "outputs": [
    {
     "data": {
      "text/html": [
       "<table class=\"dataframe\">\n",
       "<caption>A data.frame: 10 × 10</caption>\n",
       "<thead>\n",
       "\t<tr><th></th><th scope=col>id</th><th scope=col>happy</th><th scope=col>year</th><th scope=col>age</th><th scope=col>sex</th><th scope=col>marital</th><th scope=col>degree</th><th scope=col>finrela</th><th scope=col>health</th><th scope=col>wtssall</th></tr>\n",
       "\t<tr><th></th><th scope=col>&lt;dbl&gt;</th><th scope=col>&lt;fct&gt;</th><th scope=col>&lt;dbl&gt;</th><th scope=col>&lt;dbl&gt;</th><th scope=col>&lt;fct&gt;</th><th scope=col>&lt;fct&gt;</th><th scope=col>&lt;fct&gt;</th><th scope=col>&lt;fct&gt;</th><th scope=col>&lt;fct&gt;</th><th scope=col>&lt;dbl&gt;</th></tr>\n",
       "</thead>\n",
       "<tbody>\n",
       "\t<tr><th scope=row>1</th><td> 1</td><td>not too happy</td><td>1972</td><td>23</td><td>female</td><td>never married</td><td>bachelor      </td><td>average      </td><td>good     </td><td>0.4446</td></tr>\n",
       "\t<tr><th scope=row>2</th><td> 2</td><td>not too happy</td><td>1972</td><td>70</td><td>male  </td><td>married      </td><td>lt high school</td><td>above average</td><td>fair     </td><td>0.8893</td></tr>\n",
       "\t<tr><th scope=row>3</th><td> 3</td><td>pretty happy </td><td>1972</td><td>48</td><td>female</td><td>married      </td><td>high school   </td><td>average      </td><td>excellent</td><td>0.8893</td></tr>\n",
       "\t<tr><th scope=row>4</th><td> 4</td><td>not too happy</td><td>1972</td><td>27</td><td>female</td><td>married      </td><td>bachelor      </td><td>average      </td><td>good     </td><td>0.8893</td></tr>\n",
       "\t<tr><th scope=row>5</th><td> 5</td><td>pretty happy </td><td>1972</td><td>61</td><td>female</td><td>married      </td><td>high school   </td><td>above average</td><td>good     </td><td>0.8893</td></tr>\n",
       "\t<tr><th scope=row>6</th><td> 6</td><td>pretty happy </td><td>1972</td><td>26</td><td>male  </td><td>never married</td><td>high school   </td><td>above average</td><td>good     </td><td>0.4446</td></tr>\n",
       "\t<tr><th scope=row>7</th><td> 7</td><td>not too happy</td><td>1972</td><td>28</td><td>male  </td><td>divorced     </td><td>high school   </td><td>above average</td><td>excellent</td><td>0.4446</td></tr>\n",
       "\t<tr><th scope=row>8</th><td> 8</td><td>not too happy</td><td>1972</td><td>27</td><td>male  </td><td>never married</td><td>bachelor      </td><td>average      </td><td>good     </td><td>0.4446</td></tr>\n",
       "\t<tr><th scope=row>9</th><td> 9</td><td>pretty happy </td><td>1972</td><td>21</td><td>female</td><td>never married</td><td>high school   </td><td>average      </td><td>excellent</td><td>0.4446</td></tr>\n",
       "\t<tr><th scope=row>10</th><td>10</td><td>pretty happy </td><td>1972</td><td>30</td><td>female</td><td>married      </td><td>high school   </td><td>below average</td><td>fair     </td><td>0.8893</td></tr>\n",
       "</tbody>\n",
       "</table>\n"
      ],
      "text/latex": [
       "A data.frame: 10 × 10\n",
       "\\begin{tabular}{r|llllllllll}\n",
       "  & id & happy & year & age & sex & marital & degree & finrela & health & wtssall\\\\\n",
       "  & <dbl> & <fct> & <dbl> & <dbl> & <fct> & <fct> & <fct> & <fct> & <fct> & <dbl>\\\\\n",
       "\\hline\n",
       "\t1 &  1 & not too happy & 1972 & 23 & female & never married & bachelor       & average       & good      & 0.4446\\\\\n",
       "\t2 &  2 & not too happy & 1972 & 70 & male   & married       & lt high school & above average & fair      & 0.8893\\\\\n",
       "\t3 &  3 & pretty happy  & 1972 & 48 & female & married       & high school    & average       & excellent & 0.8893\\\\\n",
       "\t4 &  4 & not too happy & 1972 & 27 & female & married       & bachelor       & average       & good      & 0.8893\\\\\n",
       "\t5 &  5 & pretty happy  & 1972 & 61 & female & married       & high school    & above average & good      & 0.8893\\\\\n",
       "\t6 &  6 & pretty happy  & 1972 & 26 & male   & never married & high school    & above average & good      & 0.4446\\\\\n",
       "\t7 &  7 & not too happy & 1972 & 28 & male   & divorced      & high school    & above average & excellent & 0.4446\\\\\n",
       "\t8 &  8 & not too happy & 1972 & 27 & male   & never married & bachelor       & average       & good      & 0.4446\\\\\n",
       "\t9 &  9 & pretty happy  & 1972 & 21 & female & never married & high school    & average       & excellent & 0.4446\\\\\n",
       "\t10 & 10 & pretty happy  & 1972 & 30 & female & married       & high school    & below average & fair      & 0.8893\\\\\n",
       "\\end{tabular}\n"
      ],
      "text/markdown": [
       "\n",
       "A data.frame: 10 × 10\n",
       "\n",
       "| <!--/--> | id &lt;dbl&gt; | happy &lt;fct&gt; | year &lt;dbl&gt; | age &lt;dbl&gt; | sex &lt;fct&gt; | marital &lt;fct&gt; | degree &lt;fct&gt; | finrela &lt;fct&gt; | health &lt;fct&gt; | wtssall &lt;dbl&gt; |\n",
       "|---|---|---|---|---|---|---|---|---|---|---|\n",
       "| 1 |  1 | not too happy | 1972 | 23 | female | never married | bachelor       | average       | good      | 0.4446 |\n",
       "| 2 |  2 | not too happy | 1972 | 70 | male   | married       | lt high school | above average | fair      | 0.8893 |\n",
       "| 3 |  3 | pretty happy  | 1972 | 48 | female | married       | high school    | average       | excellent | 0.8893 |\n",
       "| 4 |  4 | not too happy | 1972 | 27 | female | married       | bachelor       | average       | good      | 0.8893 |\n",
       "| 5 |  5 | pretty happy  | 1972 | 61 | female | married       | high school    | above average | good      | 0.8893 |\n",
       "| 6 |  6 | pretty happy  | 1972 | 26 | male   | never married | high school    | above average | good      | 0.4446 |\n",
       "| 7 |  7 | not too happy | 1972 | 28 | male   | divorced      | high school    | above average | excellent | 0.4446 |\n",
       "| 8 |  8 | not too happy | 1972 | 27 | male   | never married | bachelor       | average       | good      | 0.4446 |\n",
       "| 9 |  9 | pretty happy  | 1972 | 21 | female | never married | high school    | average       | excellent | 0.4446 |\n",
       "| 10 | 10 | pretty happy  | 1972 | 30 | female | married       | high school    | below average | fair      | 0.8893 |\n",
       "\n"
      ],
      "text/plain": [
       "   id happy         year age sex    marital       degree         finrela      \n",
       "1   1 not too happy 1972 23  female never married bachelor       average      \n",
       "2   2 not too happy 1972 70  male   married       lt high school above average\n",
       "3   3 pretty happy  1972 48  female married       high school    average      \n",
       "4   4 not too happy 1972 27  female married       bachelor       average      \n",
       "5   5 pretty happy  1972 61  female married       high school    above average\n",
       "6   6 pretty happy  1972 26  male   never married high school    above average\n",
       "7   7 not too happy 1972 28  male   divorced      high school    above average\n",
       "8   8 not too happy 1972 27  male   never married bachelor       average      \n",
       "9   9 pretty happy  1972 21  female never married high school    average      \n",
       "10 10 pretty happy  1972 30  female married       high school    below average\n",
       "   health    wtssall\n",
       "1  good      0.4446 \n",
       "2  fair      0.8893 \n",
       "3  excellent 0.8893 \n",
       "4  good      0.8893 \n",
       "5  good      0.8893 \n",
       "6  good      0.4446 \n",
       "7  excellent 0.4446 \n",
       "8  good      0.4446 \n",
       "9  excellent 0.4446 \n",
       "10 fair      0.8893 "
      ]
     },
     "metadata": {},
     "output_type": "display_data"
    }
   ],
   "source": [
    "df <- happy\n",
    "head(df, 10)"
   ]
  },
  {
   "cell_type": "code",
   "execution_count": null,
   "metadata": {},
   "outputs": [],
   "source": []
  }
 ],
 "metadata": {
  "kernelspec": {
   "display_name": "R",
   "language": "R",
   "name": "ir"
  },
  "language_info": {
   "codemirror_mode": "r",
   "file_extension": ".r",
   "mimetype": "text/x-r-source",
   "name": "R",
   "pygments_lexer": "r",
   "version": "4.1.2"
  },
  "orig_nbformat": 4
 },
 "nbformat": 4,
 "nbformat_minor": 2
}
